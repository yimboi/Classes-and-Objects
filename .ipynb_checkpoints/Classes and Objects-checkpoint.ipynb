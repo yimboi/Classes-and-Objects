{
 "cells": [
  {
   "cell_type": "raw",
   "id": "3b3df907-7390-49a6-aaba-0ca98620c2bd",
   "metadata": {},
   "source": [
    "Classes are meant to provide jumbling of data/attributes or method/function altogether.\n",
    "\n",
    "Creating new classes allows user to create new Object, which also allows us to create new instances.\n",
    "\n",
    "Each class instances can have its own attributes attached to it for maintaining its state.\n",
    "Each class instances can also have methods (defined by their class) for modifying its state.\n",
    "\n",
    "Some points to consider:\n",
    "1. Classes are created by the syntax \"class object\"\n",
    "2. Attributes are variables belonged to the class\n",
    "3. Attributes can be accessed using the \"dot\" method"
   ]
  },
  {
   "cell_type": "markdown",
   "id": "f7b18e27-0218-4255-8957-58154f75f1ce",
   "metadata": {},
   "source": [
    "### 1. Class Objects"
   ]
  },
  {
   "cell_type": "raw",
   "id": "6d8141d1-aada-4c07-91a7-1302dafb00f7",
   "metadata": {},
   "source": [
    "When meant by creating an objects, a instance of a class is created\n",
    "\n",
    "A) A class is like a blueprint\n",
    "B) An instance is a copy of the class with actual values\n",
    "\n",
    "An object can be consist of:\n",
    "\n",
    "1) State: It is represented by the attributes of an object. It also reflects the properties of an object.\n",
    "2) Behaviour: It is represented by the methods of an object. It also reflects the response of an object to other objects.\n",
    "3) Identity: It gives a unique name to an object and enables one object to interact with other objects.\n",
    "\n",
    "Using a dog as an analogy:\n",
    "\n",
    "1) State/Attributes: Breed, Age, Colour\n",
    "2) Behaviour: Bark, Eat, Sleep\n",
    "3) Identity: Name of a dog"
   ]
  },
  {
   "cell_type": "markdown",
   "id": "61a9c4f2-9caa-4af7-937a-c94038427236",
   "metadata": {},
   "source": [
    "### 2. Declaring an object (also called instantiating a class)"
   ]
  },
  {
   "cell_type": "raw",
   "id": "9d871023-3d31-45db-97b6-a458e320cc93",
   "metadata": {},
   "source": [
    "Object is created when called\n",
    "\n",
    "Methods can be self described as functions tied to the attributes of the object"
   ]
  },
  {
   "cell_type": "code",
   "execution_count": 5,
   "id": "128d17bd-1213-4eed-a6a5-bf9c34f924ed",
   "metadata": {},
   "outputs": [
    {
     "name": "stdout",
     "output_type": "stream",
     "text": [
      "apple\n",
      "Fruit:  apple\n",
      "Colour:  red\n",
      "None\n"
     ]
    }
   ],
   "source": [
    "# Suppose we want to create class (or an instance) definining fruit with each own attributes\n",
    "\n",
    "# Defining a class\n",
    "\n",
    "class Fruit:\n",
    "    # create attributes/data\n",
    "    name = \"apple\"\n",
    "    colour = \"red\"\n",
    "    \n",
    "    #create methods/function\n",
    "    def eat(self):\n",
    "        print(\"Fruit: \", self.name)\n",
    "        print(\"Colour: \", self.colour)\n",
    "        \n",
    "# So we have defined a blueprint, a class called \"Fruit\"\n",
    "        \n",
    "# Driver code\n",
    "# Object instantiation which we create a copy of the class with its own unique attributes\n",
    "\n",
    "fruit = Fruit()\n",
    "\n",
    "# Accessing the class attributes of the object\n",
    "print(fruit.name)\n",
    "\n",
    "# Accessing the method of the object\n",
    "print(fruit.eat())"
   ]
  },
  {
   "cell_type": "code",
   "execution_count": 8,
   "id": "fa8b2dae-64ee-430b-aa63-c1c931927905",
   "metadata": {},
   "outputs": [
    {
     "name": "stdout",
     "output_type": "stream",
     "text": [
      "orange\n",
      "Fruit:  orange\n",
      "Colour:  orange\n",
      "None\n"
     ]
    }
   ],
   "source": [
    "# What if we want to change the objects variables to something else?\n",
    "\n",
    "fruit.name = \"orange\"\n",
    "fruit.colour = \"orange\"\n",
    "\n",
    "# Accessing the class attributes of the object (attributes changed)\n",
    "print(fruit.name)\n",
    "\n",
    "# Accessing the method of the object (using the given attributes)\n",
    "print(fruit.eat())\n",
    "\n",
    "# However, this does not really explain the full use of the class since we hardcoded orange and replacing the original attributes of an apple!"
   ]
  },
  {
   "cell_type": "code",
   "execution_count": 25,
   "id": "2100adf7-b683-492d-a69e-18266ca6b5c7",
   "metadata": {},
   "outputs": [
    {
     "name": "stdout",
     "output_type": "stream",
     "text": [
      "apple\n",
      "red\n",
      "My apple is red\n",
      "None\n",
      "orange\n",
      "orange\n",
      "My orange is orange\n",
      "None\n"
     ]
    }
   ],
   "source": [
    "# To overcome this, we can use parameters to the attributes in __init__ method:\n",
    "\n",
    "# Defining a class\n",
    "\n",
    "class Fruit:\n",
    "    \n",
    "    # creating a function containing the parameters\n",
    "    def __init__(self, name, colour):\n",
    "        \n",
    "        # assigining our parameters in the attribute using the self parameter\n",
    "        self.name = name\n",
    "        self.clr = colour\n",
    "    \n",
    "    # Similarly, we will pass the parameters into methods as well.\n",
    "    def details(self):\n",
    "        print(\"My \"+ self.name + \" is \" +self.clr)\n",
    "        \n",
    "# So when we create a new instance, we can pass a different kind of arguments into our class (remember blueprints) and we are creating different kind objects\n",
    "# Similarly, we will also pass the arguments into methods associating with the attributes as well\n",
    "apple = Fruit(\"apple\", \"red\") # arguments for object apple\n",
    "orange = Fruit(\"orange\", \"orange\") # arguments for object orange\n",
    "\n",
    "# To test, accessing the different kind of objects attributes and methods of apple and orange\n",
    "print(apple.name)\n",
    "print(apple.clr)\n",
    "print(apple.details())\n",
    "\n",
    "print(orange.name)\n",
    "print(orange.clr)\n",
    "print(orange.details())"
   ]
  },
  {
   "cell_type": "markdown",
   "id": "a28325bd-bde4-4008-8c80-5e6ffb516408",
   "metadata": {},
   "source": [
    "### 3. Local Variables"
   ]
  },
  {
   "cell_type": "raw",
   "id": "d6b5ce44-63a7-4103-b0c5-dd95d67bafc5",
   "metadata": {},
   "source": [
    "An object created will need to have self parameter binded to every attributes or variables inside before initializing in __init__ method\n",
    "\n",
    "Without doing so will result in error when calling a method\n",
    "\n",
    "Two ways to overcome this:\n",
    "1. Use the self parameter onto the said variables\n",
    "2. Initialize the variable inside other method"
   ]
  },
  {
   "cell_type": "code",
   "execution_count": 26,
   "id": "73ea3c86-0430-4b40-b9e5-29196906dc7d",
   "metadata": {},
   "outputs": [
    {
     "name": "stdout",
     "output_type": "stream",
     "text": [
      "apple\n",
      "red\n"
     ]
    },
    {
     "ename": "NameError",
     "evalue": "name 'exp_date' is not defined",
     "output_type": "error",
     "traceback": [
      "\u001b[1;31m---------------------------------------------------------------------------\u001b[0m",
      "\u001b[1;31mNameError\u001b[0m                                 Traceback (most recent call last)",
      "\u001b[1;32m~\\AppData\\Local\\Temp/ipykernel_10504/929225090.py\u001b[0m in \u001b[0;36m<module>\u001b[1;34m\u001b[0m\n\u001b[0;32m     21\u001b[0m \u001b[0mprint\u001b[0m\u001b[1;33m(\u001b[0m\u001b[0mapple\u001b[0m\u001b[1;33m.\u001b[0m\u001b[0mname\u001b[0m\u001b[1;33m)\u001b[0m\u001b[1;33m\u001b[0m\u001b[1;33m\u001b[0m\u001b[0m\n\u001b[0;32m     22\u001b[0m \u001b[0mprint\u001b[0m\u001b[1;33m(\u001b[0m\u001b[0mapple\u001b[0m\u001b[1;33m.\u001b[0m\u001b[0mclr\u001b[0m\u001b[1;33m)\u001b[0m\u001b[1;33m\u001b[0m\u001b[1;33m\u001b[0m\u001b[0m\n\u001b[1;32m---> 23\u001b[1;33m \u001b[0mprint\u001b[0m\u001b[1;33m(\u001b[0m\u001b[0mapple\u001b[0m\u001b[1;33m.\u001b[0m\u001b[0mdetails\u001b[0m\u001b[1;33m(\u001b[0m\u001b[1;33m)\u001b[0m\u001b[1;33m)\u001b[0m\u001b[1;33m\u001b[0m\u001b[1;33m\u001b[0m\u001b[0m\n\u001b[0m",
      "\u001b[1;32m~\\AppData\\Local\\Temp/ipykernel_10504/929225090.py\u001b[0m in \u001b[0;36mdetails\u001b[1;34m(self)\u001b[0m\n\u001b[0;32m     13\u001b[0m     \u001b[1;31m# Similarly, we will pass the parameters into methods as well.\u001b[0m\u001b[1;33m\u001b[0m\u001b[1;33m\u001b[0m\u001b[0m\n\u001b[0;32m     14\u001b[0m     \u001b[1;32mdef\u001b[0m \u001b[0mdetails\u001b[0m\u001b[1;33m(\u001b[0m\u001b[0mself\u001b[0m\u001b[1;33m)\u001b[0m\u001b[1;33m:\u001b[0m\u001b[1;33m\u001b[0m\u001b[1;33m\u001b[0m\u001b[0m\n\u001b[1;32m---> 15\u001b[1;33m         \u001b[0mprint\u001b[0m\u001b[1;33m(\u001b[0m\u001b[0mexp_date\u001b[0m\u001b[1;33m)\u001b[0m\u001b[1;33m\u001b[0m\u001b[1;33m\u001b[0m\u001b[0m\n\u001b[0m\u001b[0;32m     16\u001b[0m \u001b[1;33m\u001b[0m\u001b[0m\n\u001b[0;32m     17\u001b[0m \u001b[1;31m# Pass the argument inside the object here:\u001b[0m\u001b[1;33m\u001b[0m\u001b[1;33m\u001b[0m\u001b[0m\n",
      "\u001b[1;31mNameError\u001b[0m: name 'exp_date' is not defined"
     ]
    }
   ],
   "source": [
    "# Defining a class\n",
    "\n",
    "class Fruit:\n",
    "    \n",
    "    # creating a function containing the parameters\n",
    "    def __init__(self, name, colour):\n",
    "        \n",
    "        # assigining our parameters in the attribute using the self parameter\n",
    "        self.name = name\n",
    "        self.clr = colour\n",
    "        exp_date = \"01/07/2022\" #exp_date did not bind to the self parameter\n",
    "        \n",
    "    # Similarly, we will pass the parameters into methods as well.\n",
    "    def details(self):\n",
    "        print(exp_date)\n",
    "        \n",
    "# Pass the argument inside the object here:\n",
    "apple = Fruit(\"apple\", \"red\")\n",
    "        \n",
    "# To test, accessing \n",
    "print(apple.name)\n",
    "print(apple.clr)\n",
    "print(apple.details())"
   ]
  },
  {
   "cell_type": "code",
   "execution_count": 29,
   "id": "9ed791c7-8197-494a-85f7-e72a29611874",
   "metadata": {},
   "outputs": [
    {
     "name": "stdout",
     "output_type": "stream",
     "text": [
      "apple\n",
      "red\n",
      "01/07/2022\n",
      "None\n"
     ]
    }
   ],
   "source": [
    "# Defining a class\n",
    "\n",
    "class Fruit:\n",
    "    \n",
    "    # creating a function containing the parameters\n",
    "    def __init__(self, name, colour):\n",
    "        \n",
    "        # assigining our parameters in the attribute using the self parameter\n",
    "        self.name = name\n",
    "        self.clr = colour\n",
    "\n",
    "        \n",
    "    # Similarly, we will pass the parameters into methods as well.\n",
    "    def details(self):\n",
    "        exp_date = \"01/07/2022\" # variable inside details method\n",
    "        print(exp_date)\n",
    "        \n",
    "# Pass the argument inside the object here:\n",
    "apple = Fruit(\"apple\", \"red\")\n",
    "        \n",
    "# To test, accessing \n",
    "print(apple.name)\n",
    "print(apple.clr)\n",
    "print(apple.details())"
   ]
  },
  {
   "cell_type": "markdown",
   "id": "d02b80ad-383e-47af-b00d-e4f04615421b",
   "metadata": {},
   "source": [
    "### 4. Self Parameter"
   ]
  },
  {
   "cell_type": "raw",
   "id": "a7fdcf07-ad97-4f7c-a40a-128e73df692c",
   "metadata": {},
   "source": [
    "The self parameter is a reference to the current instance of the class, and is used to access variables that belongs to the class.\n",
    "\n",
    "It does not have to be named self , you can call it whatever you like, but it has to be the first parameter of any function in the class:\n",
    "\n",
    "It is particularly useful when we want to pass arguments from functions to another within the class"
   ]
  },
  {
   "cell_type": "markdown",
   "id": "231784ba-f2ef-42b4-9a43-0caea3c4b3e2",
   "metadata": {},
   "source": [
    "### 5. __ init __ Method"
   ]
  },
  {
   "cell_type": "raw",
   "id": "26ce1e71-27ac-401d-b003-4a11bbdb87a4",
   "metadata": {},
   "source": [
    "All classes have a function called __init__(), which is always executed when class is being initiated\n",
    "\n",
    "Use the __init__() function to assign values to object properties, or other operations that are necessary to do when the object is being created (when instances are created)\n",
    "\n",
    "In other words, it will run as soon as the object is initiated\n",
    "\n",
    "The __init__() function is also known as Constructors"
   ]
  },
  {
   "cell_type": "code",
   "execution_count": 38,
   "id": "37227011-8b97-4400-90e5-6688fd52534c",
   "metadata": {},
   "outputs": [
    {
     "name": "stdout",
     "output_type": "stream",
     "text": [
      "my apple is red\n",
      "it was produced on 1997\n"
     ]
    }
   ],
   "source": [
    "# Without the __init__ method\n",
    "\n",
    "# Defining a class with multiple functions or methods\n",
    "\n",
    "class Fruit:\n",
    "    \n",
    "    def types(self, name, clr): # A single method is created to store specific types of variab;es\n",
    "        self.name = name\n",
    "        self.colour = clr\n",
    "        print(\"my \"+ self.name +\" is \"+ self.colour)\n",
    "    \n",
    "    def yearmade(self, year): # Another method to cater for the year it was produced\n",
    "        self.year = year\n",
    "        print(\"it was produced on \"+ str(self.year))\n",
    "\n",
    "# Creating instances\n",
    "fruit  = Fruit()\n",
    "\n",
    "# Passing the arguments, notice that we need to pass arguments with 2 lines of codes!\n",
    "fruit.types(\"apple\", \"red\") \n",
    "fruit.yearmade(1997)\n",
    "\n"
   ]
  },
  {
   "cell_type": "code",
   "execution_count": 48,
   "id": "622f373c-cebe-4c92-91be-40c802ca2fef",
   "metadata": {},
   "outputs": [
    {
     "name": "stdout",
     "output_type": "stream",
     "text": [
      "My apple is red\n",
      "It was produced on 1997\n"
     ]
    }
   ],
   "source": [
    "# Having __init__ method introduced reduces spaces it takes to write extra lines of codes\n",
    "\n",
    "class Fruit:\n",
    "    \n",
    "    def __init__(self, name, clr, year):\n",
    "        self.name = name\n",
    "        self.colour = clr\n",
    "        self.year = year\n",
    "        print(\"My \"+ self.name +\" is \"+ self.colour +\"\\nIt was produced on \"+ str(self.year))\n",
    "\n",
    "fruit = Fruit(\"apple\", \"red\", 1997)"
   ]
  }
 ],
 "metadata": {
  "kernelspec": {
   "display_name": "Python 3 (ipykernel)",
   "language": "python",
   "name": "python3"
  },
  "language_info": {
   "codemirror_mode": {
    "name": "ipython",
    "version": 3
   },
   "file_extension": ".py",
   "mimetype": "text/x-python",
   "name": "python",
   "nbconvert_exporter": "python",
   "pygments_lexer": "ipython3",
   "version": "3.9.7"
  }
 },
 "nbformat": 4,
 "nbformat_minor": 5
}
