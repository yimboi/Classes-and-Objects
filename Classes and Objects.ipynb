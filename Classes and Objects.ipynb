{
 "cells": [
  {
   "cell_type": "raw",
   "id": "3b3df907-7390-49a6-aaba-0ca98620c2bd",
   "metadata": {},
   "source": [
    "Classes are meant to provide jumbling of data/attributes or method/function altogether.\n",
    "\n",
    "Creating new classes allows user to create new Object, which also allows us to create new instances.\n",
    "\n",
    "Each class instances can have its own attributes attached to it for maintaining its state.\n",
    "Each class instances can also have methods (defined by their class) for modifying its state.\n",
    "\n",
    "Some points to consider:\n",
    "1. Classes are created by the syntax \"class object\"\n",
    "2. Attributes are variables belonged to the class\n",
    "3. Attributes can be accessed using the \"dot\" method"
   ]
  },
  {
   "cell_type": "markdown",
   "id": "f7b18e27-0218-4255-8957-58154f75f1ce",
   "metadata": {},
   "source": [
    "### 1. Class Objects"
   ]
  },
  {
   "cell_type": "raw",
   "id": "6d8141d1-aada-4c07-91a7-1302dafb00f7",
   "metadata": {},
   "source": [
    "When meant by creating an objects, a instance of a class is created\n",
    "\n",
    "A) A class is like a blueprint\n",
    "B) An instance is a copy of the class with actual values\n",
    "\n",
    "An object can be consist of:\n",
    "\n",
    "1) State: It is represented by the attributes of an object. It also reflects the properties of an object.\n",
    "2) Behaviour: It is represented by the methods of an object. It also reflects the response of an object to other objects.\n",
    "3) Identity: It gives a unique name to an object and enables one object to interact with other objects.\n",
    "\n",
    "Using a dog as an analogy:\n",
    "\n",
    "1) State/Attributes: Breed, Age, Colour\n",
    "2) Behaviour: Bark, Eat, Sleep\n",
    "3) Identity: Name of a dog"
   ]
  },
  {
   "cell_type": "markdown",
   "id": "61a9c4f2-9caa-4af7-937a-c94038427236",
   "metadata": {},
   "source": [
    "### 2. Declaring an object (also called instantiating a class)"
   ]
  },
  {
   "cell_type": "raw",
   "id": "9d871023-3d31-45db-97b6-a458e320cc93",
   "metadata": {},
   "source": [
    "Object is created when called\n",
    "\n",
    "Methods can be self described as functions tied to the attributes of the object"
   ]
  },
  {
   "cell_type": "code",
   "execution_count": 5,
   "id": "128d17bd-1213-4eed-a6a5-bf9c34f924ed",
   "metadata": {},
   "outputs": [
    {
     "name": "stdout",
     "output_type": "stream",
     "text": [
      "apple\n",
      "Fruit:  apple\n",
      "Colour:  red\n",
      "None\n"
     ]
    }
   ],
   "source": [
    "# Suppose we want to create class (or an instance) definining fruit with each own attributes\n",
    "\n",
    "# Defining a class\n",
    "\n",
    "class Fruit:\n",
    "    # create attributes/data\n",
    "    name = \"apple\"\n",
    "    colour = \"red\"\n",
    "    \n",
    "    #create methods/function\n",
    "    def eat(self):\n",
    "        print(\"Fruit: \", self.name)\n",
    "        print(\"Colour: \", self.colour)\n",
    "        \n",
    "# So we have defined a blueprint, a class called \"Fruit\"\n",
    "        \n",
    "# Driver code\n",
    "# Object instantiation which we create a copy of the class with its own unique attributes\n",
    "\n",
    "fruit = Fruit()\n",
    "\n",
    "# Accessing the class attributes of the object\n",
    "print(fruit.name)\n",
    "\n",
    "# Accessing the method of the object\n",
    "print(fruit.eat())"
   ]
  },
  {
   "cell_type": "code",
   "execution_count": 8,
   "id": "fa8b2dae-64ee-430b-aa63-c1c931927905",
   "metadata": {},
   "outputs": [
    {
     "name": "stdout",
     "output_type": "stream",
     "text": [
      "orange\n",
      "Fruit:  orange\n",
      "Colour:  orange\n",
      "None\n"
     ]
    }
   ],
   "source": [
    "# What if we want to change the objects variables to something else?\n",
    "\n",
    "fruit.name = \"orange\"\n",
    "fruit.colour = \"orange\"\n",
    "\n",
    "# Accessing the class attributes of the object (attributes changed)\n",
    "print(fruit.name)\n",
    "\n",
    "# Accessing the method of the object (using the given attributes)\n",
    "print(fruit.eat())\n",
    "\n",
    "# However, this does not really explain the full use of the class since we hardcoded orange and replacing the original attributes of an apple!"
   ]
  },
  {
   "cell_type": "code",
   "execution_count": 25,
   "id": "2100adf7-b683-492d-a69e-18266ca6b5c7",
   "metadata": {},
   "outputs": [
    {
     "name": "stdout",
     "output_type": "stream",
     "text": [
      "apple\n",
      "red\n",
      "My apple is red\n",
      "None\n",
      "orange\n",
      "orange\n",
      "My orange is orange\n",
      "None\n"
     ]
    }
   ],
   "source": [
    "# To overcome this, we can use parameters to the attributes in __init__ method:\n",
    "\n",
    "# Defining a class\n",
    "\n",
    "class Fruit:\n",
    "    \n",
    "    # creating a function containing the parameters\n",
    "    def __init__(self, name, colour):\n",
    "        \n",
    "        # assigining our parameters in the attribute using the self parameter\n",
    "        self.name = name\n",
    "        self.clr = colour\n",
    "    \n",
    "    # Similarly, we will pass the parameters into methods as well.\n",
    "    def details(self):\n",
    "        print(\"My \"+ self.name + \" is \" +self.clr)\n",
    "        \n",
    "# So when we create a new instance, we can pass a different kind of arguments into our class (remember blueprints) and we are creating different kind objects\n",
    "# Similarly, we will also pass the arguments into methods associating with the attributes as well\n",
    "apple = Fruit(\"apple\", \"red\") # arguments for object apple\n",
    "orange = Fruit(\"orange\", \"orange\") # arguments for object orange\n",
    "\n",
    "# To test, accessing the different kind of objects attributes and methods of apple and orange\n",
    "print(apple.name)\n",
    "print(apple.clr)\n",
    "print(apple.details())\n",
    "\n",
    "print(orange.name)\n",
    "print(orange.clr)\n",
    "print(orange.details())"
   ]
  },
  {
   "cell_type": "markdown",
   "id": "a28325bd-bde4-4008-8c80-5e6ffb516408",
   "metadata": {},
   "source": [
    "### 3. Local Variables"
   ]
  },
  {
   "cell_type": "raw",
   "id": "d6b5ce44-63a7-4103-b0c5-dd95d67bafc5",
   "metadata": {},
   "source": [
    "An object created will need to have self parameter binded to every attributes or variables inside before initializing in __init__ method\n",
    "\n",
    "Without doing so will result in error when calling a method\n",
    "\n",
    "Two ways to overcome this:\n",
    "1. Use the self parameter onto the said variables\n",
    "2. Initialize the variable inside other method"
   ]
  },
  {
   "cell_type": "code",
   "execution_count": 1,
   "id": "73ea3c86-0430-4b40-b9e5-29196906dc7d",
   "metadata": {},
   "outputs": [
    {
     "name": "stdout",
     "output_type": "stream",
     "text": [
      "apple\n",
      "red\n"
     ]
    },
    {
     "ename": "NameError",
     "evalue": "name 'exp_date' is not defined",
     "output_type": "error",
     "traceback": [
      "\u001b[1;31m---------------------------------------------------------------------------\u001b[0m",
      "\u001b[1;31mNameError\u001b[0m                                 Traceback (most recent call last)",
      "\u001b[1;32m~\\AppData\\Local\\Temp/ipykernel_25392/929225090.py\u001b[0m in \u001b[0;36m<module>\u001b[1;34m\u001b[0m\n\u001b[0;32m     21\u001b[0m \u001b[0mprint\u001b[0m\u001b[1;33m(\u001b[0m\u001b[0mapple\u001b[0m\u001b[1;33m.\u001b[0m\u001b[0mname\u001b[0m\u001b[1;33m)\u001b[0m\u001b[1;33m\u001b[0m\u001b[1;33m\u001b[0m\u001b[0m\n\u001b[0;32m     22\u001b[0m \u001b[0mprint\u001b[0m\u001b[1;33m(\u001b[0m\u001b[0mapple\u001b[0m\u001b[1;33m.\u001b[0m\u001b[0mclr\u001b[0m\u001b[1;33m)\u001b[0m\u001b[1;33m\u001b[0m\u001b[1;33m\u001b[0m\u001b[0m\n\u001b[1;32m---> 23\u001b[1;33m \u001b[0mprint\u001b[0m\u001b[1;33m(\u001b[0m\u001b[0mapple\u001b[0m\u001b[1;33m.\u001b[0m\u001b[0mdetails\u001b[0m\u001b[1;33m(\u001b[0m\u001b[1;33m)\u001b[0m\u001b[1;33m)\u001b[0m\u001b[1;33m\u001b[0m\u001b[1;33m\u001b[0m\u001b[0m\n\u001b[0m",
      "\u001b[1;32m~\\AppData\\Local\\Temp/ipykernel_25392/929225090.py\u001b[0m in \u001b[0;36mdetails\u001b[1;34m(self)\u001b[0m\n\u001b[0;32m     13\u001b[0m     \u001b[1;31m# Similarly, we will pass the parameters into methods as well.\u001b[0m\u001b[1;33m\u001b[0m\u001b[1;33m\u001b[0m\u001b[0m\n\u001b[0;32m     14\u001b[0m     \u001b[1;32mdef\u001b[0m \u001b[0mdetails\u001b[0m\u001b[1;33m(\u001b[0m\u001b[0mself\u001b[0m\u001b[1;33m)\u001b[0m\u001b[1;33m:\u001b[0m\u001b[1;33m\u001b[0m\u001b[1;33m\u001b[0m\u001b[0m\n\u001b[1;32m---> 15\u001b[1;33m         \u001b[0mprint\u001b[0m\u001b[1;33m(\u001b[0m\u001b[0mexp_date\u001b[0m\u001b[1;33m)\u001b[0m\u001b[1;33m\u001b[0m\u001b[1;33m\u001b[0m\u001b[0m\n\u001b[0m\u001b[0;32m     16\u001b[0m \u001b[1;33m\u001b[0m\u001b[0m\n\u001b[0;32m     17\u001b[0m \u001b[1;31m# Pass the argument inside the object here:\u001b[0m\u001b[1;33m\u001b[0m\u001b[1;33m\u001b[0m\u001b[0m\n",
      "\u001b[1;31mNameError\u001b[0m: name 'exp_date' is not defined"
     ]
    }
   ],
   "source": [
    "# Defining a class\n",
    "\n",
    "class Fruit:\n",
    "    \n",
    "    # creating a function containing the parameters\n",
    "    def __init__(self, name, colour):\n",
    "        \n",
    "        # assigining our parameters in the attribute using the self parameter\n",
    "        self.name = name\n",
    "        self.clr = colour\n",
    "        exp_date = \"01/07/2022\" #exp_date did not bind to the self parameter\n",
    "        \n",
    "    # Similarly, we will pass the parameters into methods as well.\n",
    "    def details(self):\n",
    "        print(exp_date)\n",
    "        \n",
    "# Pass the argument inside the object here:\n",
    "apple = Fruit(\"apple\", \"red\")\n",
    "        \n",
    "# To test, accessing \n",
    "print(apple.name)\n",
    "print(apple.clr)\n",
    "print(apple.details())"
   ]
  },
  {
   "cell_type": "code",
   "execution_count": 29,
   "id": "9ed791c7-8197-494a-85f7-e72a29611874",
   "metadata": {},
   "outputs": [
    {
     "name": "stdout",
     "output_type": "stream",
     "text": [
      "apple\n",
      "red\n",
      "01/07/2022\n",
      "None\n"
     ]
    }
   ],
   "source": [
    "# Defining a class\n",
    "\n",
    "class Fruit:\n",
    "    \n",
    "    # creating a function containing the parameters\n",
    "    def __init__(self, name, colour):\n",
    "        \n",
    "        # assigining our parameters in the attribute using the self parameter\n",
    "        self.name = name\n",
    "        self.clr = colour\n",
    "\n",
    "        \n",
    "    # Similarly, we will pass the parameters into methods as well.\n",
    "    def details(self):\n",
    "        exp_date = \"01/07/2022\" # variable inside details method\n",
    "        print(exp_date)\n",
    "        \n",
    "# Pass the argument inside the object here:\n",
    "apple = Fruit(\"apple\", \"red\")\n",
    "        \n",
    "# To test, accessing \n",
    "print(apple.name)\n",
    "print(apple.clr)\n",
    "print(apple.details())"
   ]
  },
  {
   "cell_type": "markdown",
   "id": "d02b80ad-383e-47af-b00d-e4f04615421b",
   "metadata": {},
   "source": [
    "### 4. Self Parameter"
   ]
  },
  {
   "cell_type": "raw",
   "id": "a7fdcf07-ad97-4f7c-a40a-128e73df692c",
   "metadata": {},
   "source": [
    "The self parameter is a reference to the current instance of the class, and is used to access variables that belongs to the class.\n",
    "\n",
    "It does not have to be named self , you can call it whatever you like, but it has to be the first parameter of any function in the class:\n",
    "\n",
    "It is particularly useful when we want to pass arguments from functions to another within the class"
   ]
  },
  {
   "cell_type": "markdown",
   "id": "231784ba-f2ef-42b4-9a43-0caea3c4b3e2",
   "metadata": {},
   "source": [
    "### 5. __ init __ Method"
   ]
  },
  {
   "cell_type": "raw",
   "id": "26ce1e71-27ac-401d-b003-4a11bbdb87a4",
   "metadata": {},
   "source": [
    "All classes have a function called __init__(), which is always executed when class is being initiated\n",
    "\n",
    "Use the __init__() function to assign values to object properties, or other operations that are necessary to do when the object is being created (when instances are created)\n",
    "\n",
    "In other words, it will run as soon as the object is initiated\n",
    "\n",
    "The __init__() function is also known as Constructors"
   ]
  },
  {
   "cell_type": "code",
   "execution_count": 38,
   "id": "37227011-8b97-4400-90e5-6688fd52534c",
   "metadata": {},
   "outputs": [
    {
     "name": "stdout",
     "output_type": "stream",
     "text": [
      "my apple is red\n",
      "it was produced on 1997\n"
     ]
    }
   ],
   "source": [
    "# Without the __init__ method\n",
    "\n",
    "# Defining a class with multiple functions or methods\n",
    "\n",
    "class Fruit:\n",
    "    \n",
    "    def types(self, name, clr): # A single method is created to store specific types of variab;es\n",
    "        self.name = name\n",
    "        self.colour = clr\n",
    "        print(\"my \"+ self.name +\" is \"+ self.colour)\n",
    "    \n",
    "    def yearmade(self, year): # Another method to cater for the year it was produced\n",
    "        self.year = year\n",
    "        print(\"it was produced on \"+ str(self.year))\n",
    "\n",
    "# Creating instances\n",
    "fruit  = Fruit()\n",
    "\n",
    "# Passing the arguments, notice that we need to pass arguments with 2 lines of codes!\n",
    "fruit.types(\"apple\", \"red\") \n",
    "fruit.yearmade(1997)\n",
    "\n"
   ]
  },
  {
   "cell_type": "code",
   "execution_count": 48,
   "id": "622f373c-cebe-4c92-91be-40c802ca2fef",
   "metadata": {},
   "outputs": [
    {
     "name": "stdout",
     "output_type": "stream",
     "text": [
      "My apple is red\n",
      "It was produced on 1997\n"
     ]
    }
   ],
   "source": [
    "# Having __init__ method introduced reduces spaces it takes to write extra lines of codes\n",
    "\n",
    "class Fruit:\n",
    "    \n",
    "    def __init__(self, name, clr, year):\n",
    "        self.name = name\n",
    "        self.colour = clr\n",
    "        self.year = year\n",
    "        print(\"My \"+ self.name +\" is \"+ self.colour +\"\\nIt was produced on \"+ str(self.year))\n",
    "\n",
    "fruit = Fruit(\"apple\", \"red\", 1997)"
   ]
  },
  {
   "cell_type": "markdown",
   "id": "55e6f1ed-503d-4458-adf2-d7eb6582bfc8",
   "metadata": {},
   "source": [
    "### 6. Constructors"
   ]
  },
  {
   "cell_type": "raw",
   "id": "e41ba881-3230-4094-8351-039b893bbe4d",
   "metadata": {},
   "source": [
    "Constructors are generally used for instantiating an object. The task of constructors is to initialize(assign values) to the data members of the class when an object of the class is created. \n",
    "\n",
    "In Python the __init__() method is called the constructor and is always called when an object is created.\n",
    "\n",
    "Syntax of constructor declaration : \n",
    "\n",
    "def __init__(self):\n",
    "    # body of the constructor\n",
    "    \n",
    "Two types of constructor:\n",
    "i) Default constructor: The default constructor is a simple constructor which doesn’t accept any arguments. Its definition has only one argument which is a reference to the instance being constructed.\n",
    "\n",
    "\n",
    "ii) Parameterized constructor: constructor with parameters is known as parameterized constructor. The parameterized constructor takes its first argument as a reference to the instance being constructed known as self and the rest of the arguments are provided by the programmer."
   ]
  },
  {
   "cell_type": "code",
   "execution_count": 1,
   "id": "e149b26c-45d5-436a-b6e5-681b9c524f16",
   "metadata": {},
   "outputs": [
    {
     "name": "stdout",
     "output_type": "stream",
     "text": [
      "Geek for Geeks\n"
     ]
    }
   ],
   "source": [
    "# Example of a default constructor\n",
    "\n",
    "class Greek:\n",
    "    def __init__(self):\n",
    "        self.geek = \"Geek for Geeks\"\n",
    "    \n",
    "    def print_Geek(self):\n",
    "        print(self.geek)\n",
    "\n",
    "obj = Greek()\n",
    "obj.print_Geek()"
   ]
  },
  {
   "cell_type": "code",
   "execution_count": 32,
   "id": "6d79e744-d202-447b-afe5-476d3536637d",
   "metadata": {},
   "outputs": [
    {
     "name": "stdout",
     "output_type": "stream",
     "text": [
      "\n",
      "The first number: 100\n",
      "The second number: 200\n",
      "The third number: 300\n",
      "The sum of all three numbers: 600\n",
      "\n",
      "The first number: -200\n",
      "The second number: 400\n",
      "The third number: 50\n",
      "The sum of all three numbers: 250\n"
     ]
    }
   ],
   "source": [
    "# Example of a parameterized constructor\n",
    "\n",
    "class Addition:\n",
    "    first = 0\n",
    "    second = 0\n",
    "    third = 0\n",
    "    \n",
    "    def __init__(self, first, second, third):\n",
    "        self.f = first\n",
    "        self.s = second\n",
    "        self.t = third\n",
    "    \n",
    "    def calculate(self):\n",
    "        self.answer = self.f  + self.s + self.t\n",
    "    \n",
    "    def print_Numbers(self):\n",
    "        print(\"\\nThe first number: \" + str(self.f))\n",
    "        print(\"The second number: \" + str(self.s))\n",
    "        print(\"The third number: \" + str(self.t))\n",
    "        print(\"The sum of all three numbers: \" + str(self.answer))\n",
    "    \n",
    "# creating an object of the class \n",
    "# invoking parametrized constructor\n",
    "\n",
    "obj1 = Addition(100, 200, 300)\n",
    "obj1.calculate()\n",
    "obj1.print_Numbers()\n",
    "\n",
    "# creating another object of the class\n",
    "\n",
    "obj2 = Addition(-200, 400, 50)\n",
    "obj2.calculate()\n",
    "obj2.print_Numbers()"
   ]
  },
  {
   "cell_type": "markdown",
   "id": "15de0ee6-d802-4384-921e-92bc313e4904",
   "metadata": {},
   "source": [
    "### 7. Deconstructors"
   ]
  },
  {
   "cell_type": "raw",
   "id": "658950e4-74bb-4f67-b945-cd3ca5e8ed6d",
   "metadata": {},
   "source": [
    "Destructors are called when an object gets destroyed. In Python, destructors are not needed as much as in C++ because Python has a garbage collector that handles memory management automatically. \n",
    "The __del__() method is a known as a destructor method in Python. It is called when all references to the object have been deleted i.e when an object is garbage collected. \n",
    "Syntax of destructor declaration : \n",
    " \n",
    "\n",
    "def __del__(self):\n",
    "  # body of destructor\n",
    "  \n",
    "Note : A reference to objects is also deleted when the object goes out of reference or when the program ends. "
   ]
  },
  {
   "cell_type": "code",
   "execution_count": 10,
   "id": "4156cdf7-9cd2-4460-9715-810923b0de60",
   "metadata": {},
   "outputs": [
    {
     "name": "stdout",
     "output_type": "stream",
     "text": [
      "The employee is created\n"
     ]
    },
    {
     "data": {
      "text/plain": [
       "'The potential employee has arrived'"
      ]
     },
     "execution_count": 10,
     "metadata": {},
     "output_type": "execute_result"
    }
   ],
   "source": [
    "# Python program to illustrate destructor\n",
    "\n",
    "class Employee:\n",
    "    \n",
    "    a = \"The potential employee has arrived\"\n",
    "    \n",
    "    # Initializing\n",
    "    def __init__(self):\n",
    "        print(\"The employee is created\")\n",
    "    \n",
    "    # Deleting - also know as deconstrutor\n",
    "    def __del__(self):\n",
    "        print(\"The employee is deleted\")\n",
    "\n",
    "obj = Employee()\n",
    "obj.a"
   ]
  },
  {
   "cell_type": "code",
   "execution_count": 12,
   "id": "26001069-4797-4f4c-8b30-9090e9c19150",
   "metadata": {},
   "outputs": [
    {
     "name": "stdout",
     "output_type": "stream",
     "text": [
      "The employee is deleted\n"
     ]
    }
   ],
   "source": [
    "del obj"
   ]
  },
  {
   "cell_type": "code",
   "execution_count": 13,
   "id": "e0f8be10-cdbd-427b-9caf-196bcab35c88",
   "metadata": {},
   "outputs": [
    {
     "ename": "NameError",
     "evalue": "name 'obj' is not defined",
     "output_type": "error",
     "traceback": [
      "\u001b[1;31m---------------------------------------------------------------------------\u001b[0m",
      "\u001b[1;31mNameError\u001b[0m                                 Traceback (most recent call last)",
      "\u001b[1;32m~\\AppData\\Local\\Temp/ipykernel_4120/3761449561.py\u001b[0m in \u001b[0;36m<module>\u001b[1;34m\u001b[0m\n\u001b[1;32m----> 1\u001b[1;33m \u001b[0mobj\u001b[0m\u001b[1;33m.\u001b[0m\u001b[0ma\u001b[0m\u001b[1;33m\u001b[0m\u001b[1;33m\u001b[0m\u001b[0m\n\u001b[0m",
      "\u001b[1;31mNameError\u001b[0m: name 'obj' is not defined"
     ]
    }
   ],
   "source": [
    "obj.a # the object (obj) is destroyed, hence no more instance"
   ]
  },
  {
   "cell_type": "raw",
   "id": "9fb64266-14b0-4ed3-adfb-54f3f8f9e35d",
   "metadata": {},
   "source": [
    "Note : The destructor was called after the program ended or when all the references to object are deleted i.e when the reference count becomes zero, not when object went out of scope."
   ]
  },
  {
   "cell_type": "code",
   "execution_count": 19,
   "id": "e0926d58-df77-4b00-a4d2-eca1795ddf9c",
   "metadata": {},
   "outputs": [
    {
     "name": "stdout",
     "output_type": "stream",
     "text": [
      "First, let's create an object\n",
      "Making an object...\n",
      "Employee is created\n",
      "function end...\n",
      "Destructor called\n",
      "Program End...\n"
     ]
    }
   ],
   "source": [
    "class Employee: # this code is the same block as def Create_obj()\n",
    "    \n",
    "        # initializing\n",
    "        def __init__(self):\n",
    "            print(\"Employee is created\")\n",
    "    \n",
    "        # deleting\n",
    "        def __del__(self):\n",
    "            print(\"Destructor called\")\n",
    "    \n",
    "def Create_obj(): # this code is the same block as class Employee, this function is to create an object which refers to the class Employee\n",
    "        print(\"Making an object...\")\n",
    "        obj = Employee()\n",
    "        print(\"function end...\")\n",
    "        return obj\n",
    "\n",
    "print(\"First, let's create an object\")\n",
    "Create_obj() # when object has been declared, it first will pass to  Create_obj() before it proceeds to self initilizing and deconstructe in a sequence\n",
    "print('Program End...')  "
   ]
  },
  {
   "cell_type": "code",
   "execution_count": 24,
   "id": "62de3c13-a65d-43e4-a35f-a647a4b9c1d7",
   "metadata": {},
   "outputs": [],
   "source": [
    "# In this example when the function fun() is called, it creates an instance of class B which passes itself to class A, which then sets a reference to class B and resulting in a circular reference.\n",
    "\n",
    "class A:\n",
    "    def __init__(self, bb):\n",
    "        self.b = bb\n",
    " \n",
    "class B:\n",
    "    def __init__(self):\n",
    "        self.a = A(self)\n",
    "    def __del__(self):\n",
    "        print(\"die\")\n",
    " \n",
    "def fun():\n",
    "    b = B()\n",
    "\n",
    "# Generally, Python’s garbage collector which is used to detect these types of cyclic references would remove it but in this example the use of custom destructor marks this item as “uncollectable”. \n",
    "\n",
    "# mply, it doesn’t know the order in which to destroy the objects, so it leaves them. Therefore, if your instances are involved in circular references they will live in memory for as long as the application run."
   ]
  },
  {
   "cell_type": "markdown",
   "id": "67b0a500-5284-4e1b-bb13-a0626cc14f10",
   "metadata": {},
   "source": [
    "### 8. Inheritance"
   ]
  },
  {
   "cell_type": "raw",
   "id": "867e7f9f-a7f7-424e-b88f-72fd40256cf4",
   "metadata": {},
   "source": [
    "One of the core concepts in object-oriented programming (OOP) languages is inheritance. It is a mechanism that allows you to create a hierarchy of classes that share a set of properties and methods by deriving a class from another class. Inheritance is the capability of one class to derive or inherit the properties from another class. \n",
    "\n",
    "Benefits of inheritance are: \n",
    "1) It represents real-world relationships well.\n",
    "2) It provides the reusability of a code. We don’t have to write the same code again and again. Also, it allows us to add more features to a class without modifying it.\n",
    "3) It is transitive in nature, which means that if class B inherits from another class A, then all the subclasses of B would automatically inherit from class A.\n",
    "\n",
    "Inheritance offers a simple, understandable model structure. \n",
    "Less development and maintenance expenses result from an inheritance. \n",
    "\n",
    "Python Inheritance Syntax\n",
    "Class BaseClass:\n",
    "    {Body}\n",
    "Class DerivedClass(BaseClass):\n",
    "    {Body}"
   ]
  },
  {
   "cell_type": "code",
   "execution_count": 28,
   "id": "f18b514a-f400-4a68-899f-5dba9a079c8a",
   "metadata": {},
   "outputs": [
    {
     "name": "stdout",
     "output_type": "stream",
     "text": [
      "Emerson 127\n"
     ]
    }
   ],
   "source": [
    "# A python program to demonstrate inheritance\n",
    "\n",
    "class Person:\n",
    "    \n",
    "    # Constructor - this will be inherited by the child\n",
    "    def __init__ (self, name, id):\n",
    "        self.name = name\n",
    "        self.id = id\n",
    "        \n",
    "    # Another function\n",
    "    def Employee_check(self):\n",
    "        print(self.name, self.id)\n",
    "    \n",
    "# Driver code\n",
    "\n",
    "emp = Person(\"Emerson\", 127) # A base class is called\n",
    "emp.Employee_check()"
   ]
  },
  {
   "cell_type": "code",
   "execution_count": 15,
   "id": "3f239995-5cac-4442-b774-8774fb8f06d0",
   "metadata": {},
   "outputs": [
    {
     "name": "stdout",
     "output_type": "stream",
     "text": [
      "Emerson 127\n",
      "Mayank 60\n"
     ]
    }
   ],
   "source": [
    "# Creating a child class\n",
    "\n",
    "class Info(Person):\n",
    "    \n",
    "    def Employee_info(self):\n",
    "        print(self.name, self.id)\n",
    "    \n",
    "# Driver code\n",
    "\n",
    "emp_details = Info(\"Mayank\", 60) # A base class is called\n",
    "\n",
    "# Calling parent class function\n",
    "emp.Employee_check()\n",
    "\n",
    "# Calling child class function\n",
    "emp_details.Employee_info()"
   ]
  },
  {
   "cell_type": "code",
   "execution_count": 31,
   "id": "08e152bb-796b-43e9-b991-9bba14255dad",
   "metadata": {},
   "outputs": [
    {
     "name": "stdout",
     "output_type": "stream",
     "text": [
      "Trost 81\n"
     ]
    }
   ],
   "source": [
    "# Another way to inherit is to call a pass\n",
    "\n",
    "class Person:\n",
    "    \n",
    "    # Constructor - this will be inherited by the child\n",
    "    def __init__ (self, name, id):\n",
    "        self.name = name\n",
    "        self.id = id\n",
    "        \n",
    "    # Another function - this also will be inherited by the child\n",
    "    def Employee_check(self):\n",
    "        print(self.name, self.id)\n",
    "\n",
    "class Info2(Person):\n",
    "    pass\n",
    "\n",
    "# Create an instant of a child object\n",
    "\n",
    "emp_details2 = Info2(\"Trost\", 81)\n",
    "\n",
    "# Calling child class function\n",
    "emp_details2.Employee_check()"
   ]
  },
  {
   "cell_type": "code",
   "execution_count": 24,
   "id": "34bdea98-2301-4d36-89c9-ed1cda679381",
   "metadata": {},
   "outputs": [
    {
     "name": "stdout",
     "output_type": "stream",
     "text": [
      "Sam True\n",
      "Dean False\n"
     ]
    }
   ],
   "source": [
    "# A python program to demonstrate inheritance\n",
    "\n",
    "# Base or Super class. Note the object in the bracket. Object is made ancestor to all classes\n",
    "\n",
    "class Person(object):\n",
    "    \n",
    "    # A constructor\n",
    "    def __init__(self, name):\n",
    "        self.name = name\n",
    "     \n",
    "    # First function for the class parent (this function properties will be inherited by the Child Class)\n",
    "    def Emp_name(self):\n",
    "        return self.name\n",
    "    \n",
    "    # Second function for the class parent\n",
    "    def Emp_check(self):\n",
    "        return True\n",
    "\n",
    "class Child(Person):\n",
    "    \n",
    "    def Emp_check(self):\n",
    "        return False\n",
    "\n",
    "emp1 = Person(\"Sam\") # An object for Person\n",
    "print(emp1.Emp_name(), emp1.Emp_check())\n",
    "\n",
    "emp2 = Child(\"Dean\") # An object for Child\n",
    "print(emp2.Emp_name(), emp2.Emp_check()) # noticed Emp_name() function was called but it returned the argument based on the Child class input"
   ]
  },
  {
   "cell_type": "raw",
   "id": "519925ac-378a-4df9-8ef2-b67cab22e17e",
   "metadata": {},
   "source": [
    "What is object class?\n",
    "\n",
    "In Python (from version 3. x), the object is the root of all classes. \n",
    "\n",
    "In Python 3.x, “class Test(object)” and “class Test” are same. \n",
    "In Python 2. x, “class Test(object)” creates a class with the object as a parent (called a new-style class), and “class Test” creates an old-style class (without an objecting parent). \n"
   ]
  },
  {
   "cell_type": "raw",
   "id": "29cf772a-d8db-4c59-9137-753a6920cbaf",
   "metadata": {},
   "source": [
    "Subclassing (Calling constructor of parent class)\n",
    "\n",
    "A child class needs to identify which class is its parent class. This can be done by mentioning the parent class name in the definition of the child class. "
   ]
  },
  {
   "cell_type": "code",
   "execution_count": 40,
   "id": "32d7c514-cd52-4d5d-b620-2bb72fd4ef8e",
   "metadata": {},
   "outputs": [
    {
     "name": "stdout",
     "output_type": "stream",
     "text": [
      "Sam\n",
      "1221\n",
      "This Employee works for Maybank\n"
     ]
    }
   ],
   "source": [
    "# A python program to demonstrate how parent constructors are called\n",
    "\n",
    "class Person(object):\n",
    "    \n",
    "    # A constructor\n",
    "    def __init__(self, name, idnumber):\n",
    "        self.name = name\n",
    "        self.idnumber = idnumber\n",
    "        \n",
    "    # First function for the parent class\n",
    "    def Emp_details(self):\n",
    "        print(self.name)\n",
    "        print(self.idnumber)\n",
    "        print(\"This Employee works for Maybank\")\n",
    "    \n",
    "class Child(Person):\n",
    "    \n",
    "    def __init__(self, name, idnumber, salary, post): \n",
    "        self.salary = salary\n",
    "        self.post = post\n",
    "    \n",
    "        # invoking or calling the constructor of parent class\n",
    "        # if this wasn't invokved, the attribute for name and idnumber were not defined hence error. \n",
    "        Person.__init__(self, name, idnumber)\n",
    "        \n",
    "# creating an instance of the Child class\n",
    "\n",
    "child = Child(\"Sam\", 1221, 20000, \"Exec\")\n",
    "\n",
    "# calling a function inherited of the Parent Class\n",
    "child.Emp_details()"
   ]
  },
  {
   "cell_type": "code",
   "execution_count": 42,
   "id": "9f33d66a-58cc-4e64-887d-7b346f16dab2",
   "metadata": {},
   "outputs": [
    {
     "name": "stdout",
     "output_type": "stream",
     "text": [
      "Sam\n",
      "1221\n",
      "This Employee works for Maybank\n"
     ]
    }
   ],
   "source": [
    "# A python program to demonstrate how parent constructors are called (no invocation)\n",
    "\n",
    "class Person(object):\n",
    "    \n",
    "    # A constructor\n",
    "    def __init__(self, name, idnumber):\n",
    "        self.name = name\n",
    "        self.idnumber = idnumber\n",
    "        \n",
    "    # First function for the parent class\n",
    "    def Emp_details(self):\n",
    "        print(self.name)\n",
    "        print(self.idnumber)\n",
    "        print(\"This Employee works for Maybank\")\n",
    "    \n",
    "class Child(Person):\n",
    "    \n",
    "    def __init__(self, name, idnumber, salary, post): \n",
    "        self.name = name s\n",
    "        self. idnumber = idnumber\n",
    "        self.salary = salary\n",
    "        self.post = post\n",
    "        \n",
    "# creating an instance of the Child class\n",
    "\n",
    "child = Child(\"Sam\", 1221, 20000, \"Exec\")\n",
    "\n",
    "# calling a function inherited of the Parent Class\n",
    "child.Emp_details()"
   ]
  },
  {
   "cell_type": "markdown",
   "id": "4f8a2f84-6855-4aec-bad9-05ed9d1bfb75",
   "metadata": {},
   "source": [
    "### 9. Types of Inheritance"
   ]
  },
  {
   "cell_type": "raw",
   "id": "0743e86a-11c6-4fca-a77a-4a0d88fbf77d",
   "metadata": {},
   "source": [
    "Inheritance is defined as the mechanism of inheriting the properties of the base class to the child class. Here we a going to see the types of inheritance in Python.\n",
    "\n",
    "1. Single inheritance\n",
    "2. Multiple inheritance\n",
    "3. Multilevel inheritance\n",
    "4. Hierachical inhertiance\n",
    "5. Hybrid inheritance"
   ]
  },
  {
   "cell_type": "raw",
   "id": "16cba7b1-2c58-4c96-838c-dac6cbfe5f95",
   "metadata": {},
   "source": [
    "1. Single inheritance\n",
    "\n",
    "Enables a derived class to inherit properties from the parent class, thus enabling reusibility and addition of new features to existing code"
   ]
  },
  {
   "cell_type": "code",
   "execution_count": 6,
   "id": "68b59841-12c6-4478-bea5-8a50b0b34fa2",
   "metadata": {},
   "outputs": [
    {
     "name": "stdout",
     "output_type": "stream",
     "text": [
      "Parent\n",
      "Child\n"
     ]
    }
   ],
   "source": [
    "# Python program to demonstrate\n",
    "# single inheritance\n",
    " \n",
    "# Base Class\n",
    "class Parent(object):\n",
    "    def func1(name):\n",
    "        name = \"Parent\"\n",
    "        print(name)\n",
    "\n",
    "# Child Class\n",
    "class Child(Parent):\n",
    "    def func2(name):\n",
    "        name = \"Child\"\n",
    "        print(name)\n",
    "\n",
    "# Driver's code\n",
    "call = Child()\n",
    "call.func1()\n",
    "call.func2()"
   ]
  },
  {
   "cell_type": "code",
   "execution_count": 94,
   "id": "2a30f060-6ec1-4314-9c9e-e64fe915307f",
   "metadata": {},
   "outputs": [
    {
     "name": "stdout",
     "output_type": "stream",
     "text": [
      "Blair\n",
      "Jack is the child of Blair\n"
     ]
    }
   ],
   "source": [
    "# Another example using self initialization\n",
    "\n",
    "# Base Class\n",
    "class Parent(object):\n",
    "    def __init__(self, name):\n",
    "        self.name = name\n",
    "        print(name)\n",
    "\n",
    "# Child Class\n",
    "class Child(Parent):\n",
    "    def func2(self):\n",
    "        name_child = \"Jack\"\n",
    "        print(name_child +\" is the child of \"+ self.name)\n",
    "\n",
    "# Driver's code\n",
    "call = Child(\"Blair\")\n",
    "call.func2()"
   ]
  },
  {
   "cell_type": "raw",
   "id": "5406ceb5-ab5c-46a0-8f1b-a0f32e83cc2e",
   "metadata": {},
   "source": [
    "2. Multiple inheritance\n",
    "\n",
    "When a class can be derived from more than one base class this type of inheritance is called multiple inheritances. In multiple inheritances, all the features of the base classes are inherited into the derived class. "
   ]
  },
  {
   "cell_type": "code",
   "execution_count": 38,
   "id": "569e1c12-868d-45e1-93d5-224c5edea6f3",
   "metadata": {},
   "outputs": [
    {
     "name": "stdout",
     "output_type": "stream",
     "text": [
      "My mother's name is:  Susan\n",
      "My father's name is:  Jack\n",
      "None\n"
     ]
    }
   ],
   "source": [
    "# Python program to demonstrate\n",
    "# multiple inheritance\n",
    "\n",
    "# Base Class 1\n",
    "\n",
    "class Mother:\n",
    "    \n",
    "    Mother = \"\"\n",
    "    \n",
    "    def mother(self):\n",
    "        print(\"My mother's name is: \", self.Mother)\n",
    "\n",
    "# Base Class 2\n",
    "\n",
    "class Father:\n",
    "    \n",
    "    Father = \"\"\n",
    "    \n",
    "    def father(self):\n",
    "        print(\"My father's name is: \", self.Father)\n",
    "\n",
    "# Derived Class\n",
    "\n",
    "class Child(Mother, Father):\n",
    "    def child(self):\n",
    "        print(\"My mother's name is: \", self.Mother)\n",
    "        print(\"My father's name is: \", self.Father)\n",
    "\n",
    "child_1 = Child()\n",
    "child_1.Mother = \"Susan\"\n",
    "child_1.Father = \"Jack\"\n",
    "print(child_1.child())"
   ]
  },
  {
   "cell_type": "code",
   "execution_count": 83,
   "id": "f7268de8-fff6-4d7a-8bed-ef5b19a3c675",
   "metadata": {},
   "outputs": [
    {
     "name": "stdout",
     "output_type": "stream",
     "text": [
      "My mother's name is:  Susan\n",
      "My mother's name is:  Jack\n"
     ]
    }
   ],
   "source": [
    "# Another exaple by using pass\n",
    "\n",
    "class Mother:\n",
    "    def mother(self, mothersname):\n",
    "        self.mothersname = mothersname\n",
    "        print(\"My mother's name is: \", self.mothersname)\n",
    "\n",
    "class Father:\n",
    "    def father(self, fathersname):\n",
    "        self.fathersname = fathersname\n",
    "        print(\"My mother's name is: \", self.fathersname)\n",
    "\n",
    "class Child(Mother, Father):\n",
    "        pass\n",
    "\n",
    "        \n",
    "\n",
    "child_2 = Child()\n",
    "child_2.mother(\"Susan\")\n",
    "child_2.father(\"Jack\")"
   ]
  },
  {
   "cell_type": "raw",
   "id": "c9f27f05-cd7c-451a-9a59-3591dde37aa4",
   "metadata": {},
   "source": [
    "3. Multilevel Inheritance :\n",
    "In multilevel inheritance, features of the base class and the derived class are further inherited into the new derived class. This is similar to a relationship representing a child and a grandfather. "
   ]
  },
  {
   "cell_type": "code",
   "execution_count": 114,
   "id": "e5f9220a-58c0-4ab5-9d4a-76a75a1505c2",
   "metadata": {},
   "outputs": [
    {
     "name": "stdout",
     "output_type": "stream",
     "text": [
      "Grandfather's name is:  Alex\n",
      "Father's name is:  Mason\n",
      "Child's name is:  Molly\n"
     ]
    }
   ],
   "source": [
    "# Python program to demonstrate\n",
    "# Hierarchical inheritance\n",
    " \n",
    "# Base Class\n",
    "class Grandfather:\n",
    "    \n",
    "    def __init__(self, grandfathersname):\n",
    "        self.grandfathersname = grandfathersname\n",
    "\n",
    "# Intermediate Class\n",
    "class Father(Grandfather):\n",
    "    \n",
    "    def __init__(self, grandfathersname, fathersname):\n",
    "        self.fathersname = fathersname\n",
    "        Grandfather.__init__(self, grandfathersname)  # invoking or calling the constructor of Base Class\n",
    "\n",
    "#Child Class\n",
    "class Child(Father):\n",
    "    \n",
    "    def __init__(self, grandfathersname, fathersname, childsname):\n",
    "        self.childsname = childsname \n",
    "        Father.__init__(self, grandfathersname, fathersname) # invoking or calling the constructor of Intermediate Class, which already containing reference to Grandfather as well\n",
    "        \n",
    "    def family(self):\n",
    "        print(\"Grandfather's name is: \", self.grandfathersname)\n",
    "        print(\"Father's name is: \", self.fathersname)\n",
    "        print(\"Child's name is: \", self.childsname)\n",
    " \n",
    "children = Child(\"Alex\", \"Mason\", \"Molly\")\n",
    "children.family()"
   ]
  },
  {
   "cell_type": "raw",
   "id": "36fc271b-7cf8-4221-8c11-c87bedee11a3",
   "metadata": {},
   "source": [
    "4. Hierarchical Inheritance: \n",
    "When more than one derived class are created from a single base this type of inheritance is called hierarchical inheritance. In this program, we have a parent (base) class and two child (derived) classes."
   ]
  },
  {
   "cell_type": "code",
   "execution_count": 120,
   "id": "432451f3-53ee-4ca9-9d14-c0de8c2cf7e4",
   "metadata": {},
   "outputs": [
    {
     "name": "stdout",
     "output_type": "stream",
     "text": [
      "Main + Derived 1\n",
      "Main + Derived 2\n"
     ]
    }
   ],
   "source": [
    "# Python program to demonstrate\n",
    "# Hierarchical inheritance\n",
    " \n",
    "# Base Class\n",
    "\n",
    "class Base:\n",
    "    \n",
    "    obj = \"Main\"\n",
    "    \n",
    "    def base(self):\n",
    "        print(self.obj)\n",
    "\n",
    "# Derived Class 1\n",
    "\n",
    "class DervClass1(Base):\n",
    "    \n",
    "    obj1 = \"Derived 1\"\n",
    "    \n",
    "    def dervclass1(self):\n",
    "        print(self.obj,\"+\", self.obj1)\n",
    "\n",
    "# Derived Class 2\n",
    "\n",
    "class DervClass2(Base):\n",
    "    \n",
    "    obj2 = \"Derived 2\"\n",
    "    \n",
    "    def dervclass2(self):\n",
    "        print(self.obj,\"+\", self.obj2)\n",
    "\n",
    "class_1 = DervClass1()\n",
    "class_2 = DervClass2()\n",
    "\n",
    "class_1.dervclass1()\n",
    "class_2.dervclass2()"
   ]
  },
  {
   "cell_type": "raw",
   "id": "771b7188-9ba5-4e77-a6ef-fe0eb4a81c43",
   "metadata": {},
   "source": [
    "5. Hybrid Inheritance: \n",
    "Inheritance consisting of multiple types of inheritance is called hybrid inheritance."
   ]
  },
  {
   "cell_type": "code",
   "execution_count": 168,
   "id": "63369d5c-6c2f-493b-9d6f-54e4836edce7",
   "metadata": {},
   "outputs": [
    {
     "name": "stdout",
     "output_type": "stream",
     "text": [
      "Einstein\n",
      "Upper three\n",
      "Secondary\n"
     ]
    }
   ],
   "source": [
    "# Python program to demonstrate\n",
    "# hybrid inheritance\n",
    "\n",
    "class School:\n",
    "    \n",
    "    schoolstype = \"Secondary\"\n",
    "    \n",
    "    def school(self):\n",
    "        print(self.schoolstype)\n",
    "\n",
    "class Tier1(School):\n",
    "    \n",
    "    tierclass1 = \"Upper three\"\n",
    "    \n",
    "    def tier1(self):\n",
    "        print(self.tierclass1)\n",
    "\n",
    "class Tier2(School):\n",
    "    \n",
    "    tierclass2 = \"Lower three\"\n",
    "    \n",
    "    def tier2(self):\n",
    "        print(self.tierclass2)\n",
    "\n",
    "class Student(Tier1, School):\n",
    "    \n",
    "    studentsname = \"Einstein\"\n",
    "    \n",
    "    def student(self):\n",
    "        print(self.studentsname)\n",
    "\n",
    "std = Student()\n",
    "std.student()\n",
    "std.tier1()\n",
    "std.school()"
   ]
  },
  {
   "cell_type": "markdown",
   "id": "a3cc2767-e9b7-4fa6-a197-83b291d92499",
   "metadata": {},
   "source": [
    "### 10. Encapsulation"
   ]
  },
  {
   "cell_type": "raw",
   "id": "94d40e99-2654-4d1a-be62-c74bf55fc4ea",
   "metadata": {},
   "source": [
    "Encapsulation is one of the fundamental concepts in object-oriented programming (OOP). It describes the idea of wrapping data and the methods that work on data within one unit. This puts restrictions on accessing variables and methods directly and can prevent the accidental modification of data. To prevent accidental change, an object’s variable can only be changed by an object’s method. Those types of variables are known as private variables.\n",
    "\n",
    "A class is an example of encapsulation as it encapsulates all the data that is member functions, variables, etc. The goal of information hiding is to ensure that an object’s state is always valid by controlling access to attributes that are hidden from the outside world.\n",
    "\n",
    "Methods + (Private) Variables = Class"
   ]
  },
  {
   "cell_type": "raw",
   "id": "27dcb57b-b78f-422f-90a4-00bf7dfaf8ae",
   "metadata": {},
   "source": [
    "Protected Members: members of the class that cannot be accessed outside the class but can be accessed from within the class and its subclasses. To accomplish this in Python, just follow the convention by prefixing the name of the member by a single underscore “_”.\n",
    "\n",
    "Although the protected variable can be accessed out of the class as well as in the derived class (modified too in derived class), it is customary(convention not a rule) to not access the protected out the class body"
   ]
  },
  {
   "cell_type": "code",
   "execution_count": 20,
   "id": "cbf56908-5c2f-44aa-82ff-83c928ae2784",
   "metadata": {},
   "outputs": [
    {
     "name": "stdout",
     "output_type": "stream",
     "text": [
      "Calling a protected member of Base Class:  1\n",
      "Protected member of Derived Class has been changed to 2\n"
     ]
    }
   ],
   "source": [
    "# Protected members\n",
    "# Python program to\n",
    "# demonstrate protected members\n",
    "\n",
    "# Creating a base class\n",
    "class Base:\n",
    "    def __init__(self):\n",
    "        \n",
    "        #Protected member - assigned to Base class\n",
    "        self._a1 = 1 # prefixing the name of the member with \"_\" (follow convention)\n",
    "    \n",
    "    def Private_member(self):\n",
    "        print(\"Calling a protected member of Base Class: \",self._a1)\n",
    "\n",
    "# Creating a derived class\n",
    "class Derived(Base):\n",
    "    def __init__(self):\n",
    "        \n",
    "        # Calling a constructor of a Base Class\n",
    "        Base.__init__(self)\n",
    "        print(\"Calling a protected member of Base Class: \", self._a1)\n",
    "        \n",
    "        # Modifying protected variable\n",
    "        self._a1 = 2\n",
    "        print(\"Protected member of Derived Class has been changed to\", self._a1)\n",
    "\n",
    "bs = Base()\n",
    "\n",
    "dv = Derived()    "
   ]
  },
  {
   "cell_type": "raw",
   "id": "d6a81a88-3fb8-4e8b-9c3d-52c09e9d48c5",
   "metadata": {},
   "source": [
    "Private members: Similar to protected members, the difference is that the class members declared private should neither be accessed outside the class nor by any base class. In Python, there is no existence of Private instance variables that cannot be accessed except inside a class.\n",
    "\n",
    "However, to define a private member prefix the member name with double underscore “__”.\n",
    "\n",
    "Note: Python’s private and protected members can be accessed outside the class through python name mangling. "
   ]
  },
  {
   "cell_type": "code",
   "execution_count": 24,
   "id": "71109f42-fb08-498e-8110-57883ba0fb1f",
   "metadata": {},
   "outputs": [
    {
     "name": "stdout",
     "output_type": "stream",
     "text": [
      "Calling a protected member of Base Class:  1\n"
     ]
    },
    {
     "ename": "AttributeError",
     "evalue": "'str' object has no attribute 'self'",
     "output_type": "error",
     "traceback": [
      "\u001b[1;31m---------------------------------------------------------------------------\u001b[0m",
      "\u001b[1;31mAttributeError\u001b[0m                            Traceback (most recent call last)",
      "\u001b[1;32m~\\AppData\\Local\\Temp/ipykernel_10876/232462323.py\u001b[0m in \u001b[0;36m<module>\u001b[1;34m\u001b[0m\n\u001b[0;32m     19\u001b[0m         \u001b[0mprint\u001b[0m\u001b[1;33m(\u001b[0m\u001b[1;34m\"Calling a private member of Base Class: \"\u001b[0m\u001b[1;33m.\u001b[0m \u001b[0mself\u001b[0m\u001b[1;33m.\u001b[0m\u001b[0m__a2\u001b[0m\u001b[1;33m)\u001b[0m\u001b[1;33m\u001b[0m\u001b[1;33m\u001b[0m\u001b[0m\n\u001b[0;32m     20\u001b[0m \u001b[1;33m\u001b[0m\u001b[0m\n\u001b[1;32m---> 21\u001b[1;33m \u001b[0mDerived\u001b[0m\u001b[1;33m(\u001b[0m\u001b[1;33m)\u001b[0m\u001b[1;33m\u001b[0m\u001b[1;33m\u001b[0m\u001b[0m\n\u001b[0m",
      "\u001b[1;32m~\\AppData\\Local\\Temp/ipykernel_10876/232462323.py\u001b[0m in \u001b[0;36m__init__\u001b[1;34m(self)\u001b[0m\n\u001b[0;32m     17\u001b[0m         \u001b[0mBase\u001b[0m\u001b[1;33m.\u001b[0m\u001b[0m__init__\u001b[0m\u001b[1;33m(\u001b[0m\u001b[0mself\u001b[0m\u001b[1;33m)\u001b[0m\u001b[1;33m\u001b[0m\u001b[1;33m\u001b[0m\u001b[0m\n\u001b[0;32m     18\u001b[0m         \u001b[0mprint\u001b[0m\u001b[1;33m(\u001b[0m\u001b[1;34m\"Calling a protected member of Base Class: \"\u001b[0m\u001b[1;33m,\u001b[0m \u001b[0mself\u001b[0m\u001b[1;33m.\u001b[0m\u001b[0m_a1\u001b[0m\u001b[1;33m)\u001b[0m\u001b[1;33m\u001b[0m\u001b[1;33m\u001b[0m\u001b[0m\n\u001b[1;32m---> 19\u001b[1;33m         \u001b[0mprint\u001b[0m\u001b[1;33m(\u001b[0m\u001b[1;34m\"Calling a private member of Base Class: \"\u001b[0m\u001b[1;33m.\u001b[0m \u001b[0mself\u001b[0m\u001b[1;33m.\u001b[0m\u001b[0m__a2\u001b[0m\u001b[1;33m)\u001b[0m\u001b[1;33m\u001b[0m\u001b[1;33m\u001b[0m\u001b[0m\n\u001b[0m\u001b[0;32m     20\u001b[0m \u001b[1;33m\u001b[0m\u001b[0m\n\u001b[0;32m     21\u001b[0m \u001b[0mDerived\u001b[0m\u001b[1;33m(\u001b[0m\u001b[1;33m)\u001b[0m\u001b[1;33m\u001b[0m\u001b[1;33m\u001b[0m\u001b[0m\n",
      "\u001b[1;31mAttributeError\u001b[0m: 'str' object has no attribute 'self'"
     ]
    }
   ],
   "source": [
    "# Private members\n",
    "# Python program to\n",
    "# demonstrate private members\n",
    "\n",
    "# Creating a base class\n",
    "class Base:\n",
    "    def __init__(self):\n",
    "        \n",
    "        self._a1 = 1\n",
    "        self.__a2 = 2\n",
    "\n",
    "# Creating a derived class\n",
    "class Derived(Base):\n",
    "    def __init__(self):\n",
    "        \n",
    "        # Calling a constructor of a Base Class\n",
    "        Base.__init__(self)\n",
    "        print(\"Calling a protected member of Base Class: \", self._a1)\n",
    "        print(\"Calling a private member of Base Class: \". self.__a2)\n",
    "    \n",
    "Derived()"
   ]
  },
  {
   "cell_type": "code",
   "execution_count": null,
   "id": "32fc9a6c-b5b6-4b9c-bcc9-5e1679317923",
   "metadata": {},
   "outputs": [],
   "source": [
    "# as observed, private members cannot be called upon unless within its class!"
   ]
  },
  {
   "cell_type": "markdown",
   "id": "04358a12-8935-4762-a467-09914658d3a7",
   "metadata": {},
   "source": [
    "### 11. Polymorphism"
   ]
  },
  {
   "cell_type": "raw",
   "id": "bb86b40a-2782-4564-9c23-922758df37ec",
   "metadata": {},
   "source": [
    "Polymorphism: Having many forms. \n",
    "\n",
    "In programming, it means the same function name (but different signatures) being used for different types\n",
    "\n",
    "The key difference is the data types and number of arguments used in function"
   ]
  },
  {
   "cell_type": "code",
   "execution_count": 2,
   "id": "4523c554-e09d-4042-b6d8-b2f35df157f6",
   "metadata": {},
   "outputs": [
    {
     "name": "stdout",
     "output_type": "stream",
     "text": [
      "5\n",
      "3\n"
     ]
    }
   ],
   "source": [
    "# Examples of in built polymorphic function\n",
    "\n",
    "# len () being used for string\n",
    "print(len(\"geeks\"))\n",
    "\n",
    "# Len () being used for a list\n",
    "print(len([1, 2, 3]))"
   ]
  },
  {
   "cell_type": "code",
   "execution_count": 5,
   "id": "c4e935b0-6666-4582-83c4-0b28cff8c517",
   "metadata": {},
   "outputs": [
    {
     "name": "stdout",
     "output_type": "stream",
     "text": [
      "5\n",
      "10\n"
     ]
    }
   ],
   "source": [
    "# Examples of user-defined polymorphic function\n",
    "\n",
    "def add(x,y,z = 0):\n",
    "    return x + y + z\n",
    "\n",
    "# Driver code\n",
    "print(add(2,3))\n",
    "print(add(2,3,5))"
   ]
  },
  {
   "cell_type": "raw",
   "id": "8eccbb78-35f6-484f-9dbe-62dbd2bd1ca3",
   "metadata": {},
   "source": [
    "Polymorphism with class methods: \n",
    "\n",
    "The below code shows how Python can use two different class types, in the same way. We create a for loop that iterates through a tuple of objects. Then call the methods without being concerned about which class type each object is. We assume that these methods actually exist in each class. "
   ]
  },
  {
   "cell_type": "code",
   "execution_count": 9,
   "id": "9d3759c8-0240-43e0-b186-ea8d64a56daf",
   "metadata": {},
   "outputs": [
    {
     "name": "stdout",
     "output_type": "stream",
     "text": [
      "the capital of India is New Delhi\n",
      "Hindi is the most widely spoken language in India\n",
      "India is a developing country\n",
      "the capital of India is Washington\n",
      "English is the most widely spoken language in India\n",
      "USA is a developed country\n"
     ]
    }
   ],
   "source": [
    "class India():\n",
    "    def capital(self):\n",
    "        print(\"The capital of India is New Delhi\")\n",
    "    \n",
    "    def language(self):\n",
    "        print(\"Hindi is the most widely spoken language in India\")\n",
    "        \n",
    "    def type(self):\n",
    "        print(\"India is a developing country\")\n",
    "\n",
    "class USA():\n",
    "    def capital(self):\n",
    "        print(\"The capital of India is Washington\")\n",
    "    \n",
    "    def language(self):\n",
    "        print(\"English is the most widely spoken language in India\")\n",
    "        \n",
    "    def type(self):\n",
    "        print(\"USA is a developed country\")\n",
    "    \n",
    "obj_India = India()\n",
    "obj_USA = USA()\n",
    "\n",
    "for country in (obj_India, obj_USA): # looping through each of the class has the same structure (methods)\n",
    "    country.capital()                # But different types of arguments inside them\n",
    "    country.language()\n",
    "    country.type()"
   ]
  },
  {
   "cell_type": "raw",
   "id": "af638f92-19b8-4fad-8a2c-3162327677a7",
   "metadata": {},
   "source": [
    "Polymorphism with Inheritance: \n",
    "\n",
    "In Python, Polymorphism lets us define methods in the child class that have the same name as the methods in the parent class. In inheritance, the child class inherits the methods from the parent class. However, it is possible to modify a method in a child class that it has inherited from the parent class. This is particularly useful in cases where the method inherited from the parent class doesn’t quite fit the child class. In such cases, we re-implement the method in the child class. This process of re-implementing a method in the child class is known as Method Overriding.  "
   ]
  },
  {
   "cell_type": "code",
   "execution_count": null,
   "id": "0bf46e6b-5487-4dd8-a0df-1ce8c4e404e1",
   "metadata": {},
   "outputs": [],
   "source": [
    "class Bird:\n",
    "    \n",
    "    def intro(self):\n",
    "        print(\"Birds are type of animals that can fly\")\n",
    "        \n",
    "    def type(self):\n",
    "        print(\"But not all birds can fly\")\n",
    "\n",
    "class Sparrow(Bird): # Sparrow inherited the Bird - Hierarchical inheritance\n",
    "    \n",
    "    def type(self):\n",
    "        print(\"Sparrow can fly\") # Changing the method here in type(self)\n",
    "\n",
    "class Ostrich(Bird): # Ostrich inherited the Bird - Hierarchical inheritance\n",
    "    \n",
    "    def type(self):\n",
    "        print(\"Ostrich cannot fly\") # Changing the method here in type(self)\n",
    "\n",
    "obj_bird = Bird()\n",
    "obj_sparrow = Sparrow()\n",
    "obj_ostrich = Ostrich()\n",
    "    \n",
    "obj_bird.intro()\n",
    "obj_bird.type()\n",
    "\n",
    "obj_sparrow.intro()\n",
    "obj_sparrow.type()\n",
    "\n",
    "obj_ostrich.intro()\n",
    "obj_ostrich.type()"
   ]
  }
 ],
 "metadata": {
  "kernelspec": {
   "display_name": "Python 3 (ipykernel)",
   "language": "python",
   "name": "python3"
  },
  "language_info": {
   "codemirror_mode": {
    "name": "ipython",
    "version": 3
   },
   "file_extension": ".py",
   "mimetype": "text/x-python",
   "name": "python",
   "nbconvert_exporter": "python",
   "pygments_lexer": "ipython3",
   "version": "3.9.12"
  }
 },
 "nbformat": 4,
 "nbformat_minor": 5
}
